{
 "cells": [
  {
   "cell_type": "code",
   "execution_count": 13,
   "metadata": {},
   "outputs": [],
   "source": [
    "import pyautogui #pip install pyautogui\n",
    "import time #pip install python-time"
   ]
  },
  {
   "cell_type": "code",
   "execution_count": 20,
   "metadata": {},
   "outputs": [],
   "source": [
    "pyautogui.alert('Não clique em nada! Automação já vai começar')\n",
    "pyautogui.PAUSE = 0.5\n",
    "\n",
    "# tecle windows, digite chrome e abre o navegador\n",
    "pyautogui.press('winleft') #win = tecla windows\n",
    "pyautogui.write('Google Chrome')\n",
    "pyautogui.press('enter')\n",
    "time.sleep(1)\n",
    "pyautogui.write(\"https://drive.google.com/drive/u/0/my-drive\")\n",
    "pyautogui.press('enter')\n",
    "\n",
    "# entrar na área de trabalho\n",
    "pyautogui.hotkey('winleft', 'd')\n",
    "\n",
    "# cliquei no arquivo 'data_programming' que eu quero fazer backup e upload\n",
    "pyautogui.moveTo(x=1309, y=621) #posição onde está o meu arquivo no desktop\n",
    "pyautogui.mouseDown()\n",
    "pyautogui.moveTo(x=785, y=620) #posição onde jogo meu arquivo no drive para upload\n",
    "\n",
    "# entrei no google drive\n",
    "pyautogui.hotkey('alt', 'tab')\n",
    "\n",
    "# fiz o upload do arquivo\n",
    "pyautogui.mouseUp() #larga o arquivo e da o upload\n",
    "\n",
    "# esperar 5 segundos\n",
    "time.sleep(5)"
   ]
  },
  {
   "cell_type": "code",
   "execution_count": 18,
   "metadata": {},
   "outputs": [
    {
     "data": {
      "text/plain": [
       "Point(x=785, y=620)"
      ]
     },
     "execution_count": 18,
     "metadata": {},
     "output_type": "execute_result"
    }
   ],
   "source": [
    "pyautogui.position()\n",
    "# execute e deixe o mouse parado para ver posição e automar processos"
   ]
  }
 ],
 "metadata": {
  "kernelspec": {
   "display_name": "Python 3",
   "language": "python",
   "name": "python3"
  },
  "language_info": {
   "codemirror_mode": {
    "name": "ipython",
    "version": 3
   },
   "file_extension": ".py",
   "mimetype": "text/x-python",
   "name": "python",
   "nbconvert_exporter": "python",
   "pygments_lexer": "ipython3",
   "version": "3.10.9"
  },
  "orig_nbformat": 4
 },
 "nbformat": 4,
 "nbformat_minor": 2
}
